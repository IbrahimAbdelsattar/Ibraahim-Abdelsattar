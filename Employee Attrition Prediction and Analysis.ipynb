{
 "cells": [
  {
   "cell_type": "markdown",
   "id": "b857ae59",
   "metadata": {},
   "source": [
    "## Attrition:- ***company losing its customer base***\n",
    "\n",
    "**Attrition is a process in which the workforce dwindles at a company, following a period in which a number of people retire or resign, and are not replaced.**\n",
    "- A reduction in staff due to attrition is often called a hiring freeze and is seen as a less disruptive way to trim the workforce and reduce payroll than layoffs\n",
    "- In this NoteBook our Aim will be to analyze the dfsets completely wrt each and feature and find the reasin behind Attrition of Employees.\n",
    "- And what the top factors which lead to employee attrition?"
   ]
  },
  {
   "cell_type": "markdown",
   "id": "9095676d",
   "metadata": {},
   "source": [
    "# Description of the Dataset\n",
    "\n",
    "- **Employee ID**: A unique identifier assigned to each employee.\n",
    "- **Age**: The age of the employee, ranging from 18 to 60 years.\n",
    "- **Gender**: The gender of the employee.\n",
    "- **Years at Company**: The number of years the employee has been working at the company.\n",
    "- **Monthly Income**: The monthly salary of the employee, in dollars.\n",
    "- **Job Role**: The department or role the employee works in, encoded into categories such as Finance, Healthcare, Technology, Education, and Media.\n",
    "- **Work-Life Balance**: The employee's perceived balance between work and personal life (Poor, Below Average, Good, Excellent).\n",
    "- **Job Satisfaction**: The employee's satisfaction with their job (Very Low, Low, Medium, High).\n",
    "- **Performance Rating**: The employee's performance rating (Low, Below Average, Average, High).\n",
    "- **Number of Promotions**: The total number of promotions the employee has received.\n",
    "- **Distance from Home**: The distance between the employee's home and workplace, in miles.\n",
    "- **Education Level**: The highest education level attained by the employee (High School, Associate Degree, Bachelor’s Degree, Master’s Degree, PhD).\n",
    "- **Marital Status**: The marital status of the employee (Divorced, Married, Single).\n",
    "- **Job Level**: The job level of the employee (Entry, Mid, Senior).\n",
    "- **Company Size**: The size of the company the employee works for (Small, Medium, Large).\n",
    "- **Company Tenure**: The total number of years the employee has been working in the industry.\n",
    "- **Remote Work**: Whether the employee works remotely (Yes or No).\n",
    "- **Leadership Opportunities**: Whether the employee has leadership opportunities (Yes or No).\n",
    "- **Innovation Opportunities**: Whether the employee has opportunities for innovation (Yes or No).\n",
    "- **Company Reputation**: The employee's perception of the company's reputation (Very Poor, Poor, Good, Excellent).\n",
    "- **Employee Recognition**: The level of recognition the employee receives (Very Low, Low, Medium, High).\n",
    "- **Attrition**: Whether the employee has left the company, encoded as **0 (Stayed) and 1 (Left)**.\n"
   ]
  },
  {
   "cell_type": "markdown",
   "id": "fc621104",
   "metadata": {},
   "source": [
    "<h2>Some Python Libraries</h2>\n",
    "\n",
    "<p style=\"text-align: justify;\">In the first place, Let's define some libraries to help us in the manipulation the df set, such as `pandas`, `numpy`, `matplotlib`, `seaborn`. In this tutorial, we are implementing a Logistic Regression with `sikit-learn`. The goal here is to be as simple as possible! So to help you with this task, we implementing the Logistic regression using ready-made libraries and their functinality.</p>"
   ]
  },
  {
   "cell_type": "code",
   "execution_count": 1,
   "id": "545efb82",
   "metadata": {},
   "outputs": [],
   "source": [
    "import pandas as pd\n",
    "import numpy as np\n",
    "import matplotlib.pyplot as plt\n",
    "import seaborn as sns\n",
    "%matplotlib inline"
   ]
  },
  {
   "cell_type": "markdown",
   "id": "2550886e",
   "metadata": {},
   "source": [
    "### Data Collection"
   ]
  },
  {
   "cell_type": "code",
   "execution_count": null,
   "id": "c8992ead",
   "metadata": {},
   "outputs": [],
   "source": [
    "df = pd.read_csv('train.csv')"
   ]
  },
  {
   "cell_type": "code",
   "execution_count": null,
   "id": "1e00f9c3",
   "metadata": {},
   "outputs": [],
   "source": [
    "df.head()"
   ]
  },
  {
   "cell_type": "code",
   "execution_count": null,
   "id": "b255fe64",
   "metadata": {},
   "outputs": [],
   "source": [
    "# Display basic dataset information\n",
    "print(\"Dataset Shape:\", df.shape)\n",
    "print(\"Columns in Dataset:\", df.columns)"
   ]
  },
  {
   "cell_type": "markdown",
   "id": "6f40d231",
   "metadata": {},
   "source": [
    "### Data Exploration"
   ]
  },
  {
   "cell_type": "markdown",
   "id": "2b14cec6",
   "metadata": {},
   "source": [
    "#### Handling Missing Value"
   ]
  },
  {
   "cell_type": "code",
   "execution_count": null,
   "id": "2ee357e4",
   "metadata": {},
   "outputs": [],
   "source": [
    "missing_values = df.isnull().sum()\n",
    "print(\"\\nMissing Values:\\n\", missing_values)\n"
   ]
  },
  {
   "cell_type": "markdown",
   "id": "2258f631",
   "metadata": {},
   "source": [
    "#### Showing Summary statistics"
   ]
  },
  {
   "cell_type": "code",
   "execution_count": null,
   "id": "ae836a9c",
   "metadata": {},
   "outputs": [],
   "source": [
    "summary_stats = df.describe()\n",
    "print(\"\\nSummary Statistics:\\n\", summary_stats)\n"
   ]
  },
  {
   "cell_type": "markdown",
   "id": "f81cec1c",
   "metadata": {},
   "source": [
    "#### Calculate How many Stayed and Left"
   ]
  },
  {
   "cell_type": "code",
   "execution_count": null,
   "id": "72a6abd6",
   "metadata": {},
   "outputs": [],
   "source": [
    "df[\"Attrition\"].value_counts()"
   ]
  },
  {
   "cell_type": "markdown",
   "id": "979d3f85",
   "metadata": {},
   "source": [
    "### Handling Duplicated Values"
   ]
  },
  {
   "cell_type": "code",
   "execution_count": null,
   "id": "6dc4d780",
   "metadata": {},
   "outputs": [],
   "source": [
    "df.duplicated().sum()"
   ]
  },
  {
   "cell_type": "markdown",
   "id": "13913562",
   "metadata": {},
   "source": [
    "### **Preprocessing and Feature Engineering**"
   ]
  },
  {
   "cell_type": "markdown",
   "id": "40068e09",
   "metadata": {},
   "source": [
    "### Drop Unneeded Columns"
   ]
  },
  {
   "cell_type": "code",
   "execution_count": null,
   "id": "8fd58759",
   "metadata": {},
   "outputs": [],
   "source": [
    "df.columns"
   ]
  },
  {
   "cell_type": "code",
   "execution_count": null,
   "id": "1e82998f",
   "metadata": {},
   "outputs": [],
   "source": [
    "df.drop(columns=\"Overtime\", inplace=True)"
   ]
  },
  {
   "cell_type": "code",
   "execution_count": null,
   "id": "cebe196f",
   "metadata": {},
   "outputs": [],
   "source": [
    "df.drop(columns='Number of Promotions',inplace=True)"
   ]
  },
  {
   "cell_type": "code",
   "execution_count": null,
   "id": "10a631ef",
   "metadata": {},
   "outputs": [],
   "source": [
    "df.drop(columns='Gender',inplace=True)"
   ]
  },
  {
   "cell_type": "code",
   "execution_count": null,
   "id": "6ea5d27c",
   "metadata": {},
   "outputs": [],
   "source": [
    "df.drop(columns='Age',inplace=True)"
   ]
  },
  {
   "cell_type": "code",
   "execution_count": null,
   "id": "3a1e1e4f",
   "metadata": {},
   "outputs": [],
   "source": [
    "df.drop(columns='Education Level',inplace=True)"
   ]
  },
  {
   "cell_type": "code",
   "execution_count": null,
   "id": "c314ffe7",
   "metadata": {},
   "outputs": [],
   "source": [
    "df.drop(columns='Number of Dependents',inplace=True)"
   ]
  },
  {
   "cell_type": "code",
   "execution_count": null,
   "id": "a0a6809c",
   "metadata": {},
   "outputs": [],
   "source": [
    "df.drop(columns='Company Size',inplace=True)"
   ]
  },
  {
   "cell_type": "code",
   "execution_count": null,
   "id": "7bfd86c5",
   "metadata": {},
   "outputs": [],
   "source": [
    "df.drop(columns='Leadership Opportunities',inplace=True)"
   ]
  },
  {
   "cell_type": "code",
   "execution_count": null,
   "id": "b0ea68f8",
   "metadata": {},
   "outputs": [],
   "source": [
    "df.drop(columns='Innovation Opportunities',inplace=True)"
   ]
  },
  {
   "cell_type": "code",
   "execution_count": null,
   "id": "7430105f",
   "metadata": {},
   "outputs": [],
   "source": [
    "df.drop(columns='Company Reputation',inplace=True)"
   ]
  },
  {
   "cell_type": "code",
   "execution_count": null,
   "id": "507806c4",
   "metadata": {},
   "outputs": [],
   "source": [
    "df.drop(columns='Employee Recognition',inplace=True)"
   ]
  },
  {
   "cell_type": "code",
   "execution_count": null,
   "id": "d28481ea",
   "metadata": {},
   "outputs": [],
   "source": [
    "df.drop(columns='Company Tenure',inplace=True)"
   ]
  },
  {
   "cell_type": "code",
   "execution_count": null,
   "id": "7fa7919b",
   "metadata": {},
   "outputs": [],
   "source": [
    "df.drop(columns='Employee ID',inplace=True)"
   ]
  },
  {
   "cell_type": "markdown",
   "id": "d56905f4",
   "metadata": {},
   "source": [
    "### Handling Outliers"
   ]
  },
  {
   "cell_type": "code",
   "execution_count": null,
   "id": "f3723869",
   "metadata": {},
   "outputs": [],
   "source": [
    "# Boxplot to detect outliers in numerical columns\n",
    "plt.figure(figsize=(12, 6))\n",
    "sns.boxplot(data=df[[\"Monthly Income\"]], palette=\"coolwarm\")\n",
    "plt.title(\"Monthly Income Checking for Outliers\", fontsize=14)\n",
    "plt.show()"
   ]
  },
  {
   "cell_type": "code",
   "execution_count": null,
   "id": "1f3d7116",
   "metadata": {},
   "outputs": [],
   "source": [
    "# Boxplot to detect outliers in numerical columns\n",
    "plt.figure(figsize=(12, 6))\n",
    "sns.boxplot(data=df[[\"Distance from Home\"]], palette=\"coolwarm\")\n",
    "plt.title(\"Distance from home Checking for Outliers\", fontsize=14)\n",
    "plt.show()"
   ]
  },
  {
   "cell_type": "code",
   "execution_count": null,
   "id": "7e3c7b9b",
   "metadata": {},
   "outputs": [],
   "source": [
    "# Compute Q1 (25%) and Q3 (75%)\n",
    "Q1 = df[\"Monthly Income\"].quantile(0.25)\n",
    "Q3 = df[\"Monthly Income\"].quantile(0.75)\n",
    "\n",
    "# Compute IQR (Interquartile Range)\n",
    "IQR = Q3 - Q1\n",
    "\n",
    "# Define outlier thresholds\n",
    "lower_bound = Q1 - 1.5 * IQR\n",
    "upper_bound = Q3 + 1.5 * IQR\n",
    "\n",
    "# Detect outliers\n",
    "outliers = df[(df[\"Monthly Income\"] < lower_bound) | (df[\"Monthly Income\"] > upper_bound)]\n",
    "print(f\"Number of outliers in Monthly Income: {len(outliers)}\")"
   ]
  },
  {
   "cell_type": "markdown",
   "id": "9bbe18b0",
   "metadata": {},
   "source": [
    "#### Apply capping (Winsorization)"
   ]
  },
  {
   "cell_type": "code",
   "execution_count": null,
   "id": "865f8974",
   "metadata": {},
   "outputs": [],
   "source": [
    "df[\"Monthly Income\"] = np.where(df[\"Monthly Income\"] > upper_bound, upper_bound, df[\"Monthly Income\"])\n",
    "df[\"Monthly Income\"] = np.where(df[\"Monthly Income\"] < lower_bound, lower_bound, df[\"Monthly Income\"])\n"
   ]
  },
  {
   "cell_type": "markdown",
   "id": "52e53e1e",
   "metadata": {},
   "source": [
    "#### After Handling The Outliers"
   ]
  },
  {
   "cell_type": "code",
   "execution_count": null,
   "id": "b4bfc33a",
   "metadata": {},
   "outputs": [],
   "source": [
    "plt.figure(figsize=(12, 6))\n",
    "sns.boxplot(data=df[[\"Monthly Income\"]], palette=\"coolwarm\")\n",
    "plt.title(\"Monthly Income After Handling Outliers\", fontsize=14)\n",
    "plt.show()"
   ]
  },
  {
   "cell_type": "markdown",
   "id": "0d950acc",
   "metadata": {},
   "source": [
    "## **Exploratory Data Analysis(EDA)**"
   ]
  },
  {
   "cell_type": "markdown",
   "id": "bdab7d2f",
   "metadata": {},
   "source": [
    "### **Univariate Analysis**"
   ]
  },
  {
   "cell_type": "markdown",
   "id": "90afec3f",
   "metadata": {},
   "source": [
    "#### Attrition Distribution"
   ]
  },
  {
   "cell_type": "code",
   "execution_count": null,
   "id": "9263b217",
   "metadata": {},
   "outputs": [],
   "source": [
    "\n",
    "# Distribution of the target variable (Attrition)\n",
    "plt.figure(figsize=(6, 4))  # Sets the plot size to 6 inches wide and 4 inches tall.\n",
    "sns.countplot(x='Attrition', data=df, palette='Set2')  # Creates a bar chart for the 'Attrition' column with colorful bars.\n",
    "plt.title('Distribution of Attrition')  # Adds a title to the chart.\n",
    "plt.xlabel('Attrition (Yes/No)')  # Labels the x-axis as \"Attrition (Yes/No)\".\n",
    "plt.ylabel('Count')  # Labels the y-axis as \"Count\".\n",
    "plt.show()  # Displays the chart.\n"
   ]
  },
  {
   "cell_type": "markdown",
   "id": "f287fb16",
   "metadata": {},
   "source": [
    "#### Job Role Distribution"
   ]
  },
  {
   "cell_type": "code",
   "execution_count": null,
   "id": "4d421738",
   "metadata": {},
   "outputs": [],
   "source": [
    "# Set figure size\n",
    "plt.figure(figsize=(10, 5))\n",
    "\n",
    "# Create a grouped bar plot\n",
    "sns.countplot(x=\"Job Role\", hue=\"Attrition\", data=df, palette=\"viridis\")\n",
    "\n",
    "# Titles and labels\n",
    "plt.title(\"Attrition by Job Roles\", fontsize=14)\n",
    "plt.xlabel(\"Job Role\", fontsize=12)\n",
    "plt.ylabel(\"Count\", fontsize=12)\n",
    "plt.xticks(rotation=45)  # Rotate x-axis labels for readability\n",
    "plt.legend(title=\"Attrition\", labels=[\"Stayed\", \"Left\"])  # Custom legend\n",
    "\n",
    "# Show plot\n",
    "plt.show()"
   ]
  },
  {
   "cell_type": "markdown",
   "id": "673790bc",
   "metadata": {},
   "source": [
    "#### Job Satisfaction"
   ]
  },
  {
   "cell_type": "code",
   "execution_count": null,
   "id": "a8161296",
   "metadata": {},
   "outputs": [],
   "source": [
    "# Plot Attrition by Job Satisfaction\n",
    "plt.figure(figsize=(8, 6))\n",
    "sns.countplot(x='Job Satisfaction', hue='Attrition', data=df)\n",
    "plt.title('Attrition by Job Satisfaction')\n",
    "plt.show()"
   ]
  },
  {
   "cell_type": "markdown",
   "id": "6ab5ea17",
   "metadata": {},
   "source": [
    "#### Work-Life Balance"
   ]
  },
  {
   "cell_type": "code",
   "execution_count": null,
   "id": "3bc3e9f6",
   "metadata": {},
   "outputs": [],
   "source": [
    "# Plot Attrition by Work-Life Balance\n",
    "plt.figure(figsize=(8, 6))\n",
    "sns.countplot(x='Work-Life Balance', hue='Attrition', data=df)\n",
    "plt.title('Attrition by Work-Life Balance')\n",
    "plt.show()"
   ]
  },
  {
   "cell_type": "markdown",
   "id": "a3ebd8f2",
   "metadata": {},
   "source": [
    "#### Marital Status"
   ]
  },
  {
   "cell_type": "code",
   "execution_count": null,
   "id": "653342ae",
   "metadata": {},
   "outputs": [],
   "source": [
    "# Plot Attrition by Marital Status\n",
    "plt.figure(figsize=(8, 6))\n",
    "sns.countplot(x='Marital Status', hue='Attrition', data=df)\n",
    "plt.title('Attrition by Marital Status')\n",
    "plt.show()\n"
   ]
  },
  {
   "cell_type": "markdown",
   "id": "d0bd6990",
   "metadata": {},
   "source": [
    "### **Bivariate Analysis**"
   ]
  },
  {
   "cell_type": "markdown",
   "id": "f37be396",
   "metadata": {},
   "source": [
    "#### Monthly Income vs Attrition"
   ]
  },
  {
   "cell_type": "code",
   "execution_count": null,
   "id": "c5f1a2bb",
   "metadata": {},
   "outputs": [],
   "source": [
    "# Set figure size\n",
    "plt.figure(figsize=(8, 5))\n",
    "\n",
    "# Boxplot for Monthly Income vs. Attrition\n",
    "sns.boxplot(x=\"Attrition\", y=\"Monthly Income\", data=df, palette=\"viridis\")\n",
    "\n",
    "# Titles and labels\n",
    "plt.title(\"Monthly Income by Attrition\", fontsize=14)\n",
    "plt.xlabel(\"Attrition\", fontsize=12)\n",
    "plt.ylabel(\"Monthly Income\", fontsize=12)\n",
    "\n",
    "# Show plot\n",
    "plt.show()"
   ]
  },
  {
   "cell_type": "markdown",
   "id": "0547c5ed",
   "metadata": {},
   "source": [
    "#### Encoding Categorical Data"
   ]
  },
  {
   "cell_type": "code",
   "execution_count": null,
   "id": "dbf1f75d",
   "metadata": {},
   "outputs": [],
   "source": [
    "from sklearn.preprocessing import LabelEncoder\n",
    "# Define the columns to be label encoded\n",
    "categorical_cols = ['Job Role','Marital Status', 'Job Level',\n",
    "               'Remote Work','Work-Life Balance', 'Job Satisfaction', 'Performance Rating', 'Attrition']\n",
    "\n",
    "# Initialize label encoders\n",
    "label_encoders = {col: LabelEncoder() for col in categorical_cols}\n",
    "\n",
    "# Apply label encoding\n",
    "for col in categorical_cols:\n",
    "    df[col] = label_encoders[col].fit_transform(df[col])"
   ]
  },
  {
   "cell_type": "markdown",
   "id": "4f172b9b",
   "metadata": {},
   "source": [
    "####  Creating relevant interaction features"
   ]
  },
  {
   "cell_type": "code",
   "execution_count": null,
   "id": "9c8cafbb",
   "metadata": {},
   "outputs": [],
   "source": [
    "# 1️⃣ Salary-to-Performance Ratio\n",
    "df[\"Salary_Performance_Ratio\"] = df[\"Monthly Income\"] / (df[\"Performance Rating\"] + 1)  # Avoid division by zero\n",
    "\n",
    "# 2️⃣ Categorizing Tenure into Groups\n",
    "def tenure_category(years):\n",
    "    if years < 2:\n",
    "        return \"Short-Term\"\n",
    "    elif 2 <= years < 5:\n",
    "        return \"Medium-Term\"\n",
    "    else:\n",
    "        return \"Long-Term\"\n",
    "\n",
    "df[\"Tenure_Group\"] = df[\"Years at Company\"].apply(tenure_category)\n",
    "\n",
    "# Encode Tenure Groups\n",
    "tenure_mapping = {\"Short-Term\": 1, \"Medium-Term\": 2, \"Long-Term\": 3}\n",
    "df[\"Tenure_Group\"] = df[\"Tenure_Group\"].map(tenure_mapping)\n",
    "# 3️⃣ Interaction Feature: Work-Life Balance & Job Satisfaction\n",
    "df[\"WorkLife_Satisfaction_Score\"] = df[\"Work-Life Balance\"] * df[\"Job Satisfaction\"]\n",
    "\n",
    "# 4️⃣ Normalized Income Based on Job Level\n",
    "df[\"Income_JobLevel_Ratio\"] = df[\"Monthly Income\"] / (df[\"Job Level\"] + 1)  # Avoid division by zero\n",
    "\n",
    "# Display first few rows\n",
    "df.head()"
   ]
  },
  {
   "cell_type": "markdown",
   "id": "bd1ad6f2",
   "metadata": {},
   "source": [
    "#### Normalizing Numerical Features"
   ]
  },
  {
   "cell_type": "code",
   "execution_count": null,
   "id": "08ea95c4",
   "metadata": {},
   "outputs": [],
   "source": [
    "from sklearn.preprocessing import MinMaxScaler\n",
    "\n",
    "# Define numerical columns to normalize\n",
    "numerical_cols = [\"Monthly Income\", \"Distance from Home\", \"Years at Company\"]\n",
    "\n",
    "# Apply Min-Max Scaling\n",
    "scaler = MinMaxScaler()\n",
    "df[numerical_cols] = scaler.fit_transform(df[numerical_cols])\n",
    "\n",
    "# Display dataset after normalization\n",
    "df.head()\n"
   ]
  },
  {
   "cell_type": "markdown",
   "id": "ba08e37e",
   "metadata": {},
   "source": [
    "### **Multivariate Analysis**"
   ]
  },
  {
   "cell_type": "markdown",
   "id": "71e52a35",
   "metadata": {},
   "source": [
    "#### Correlation Analysis"
   ]
  },
  {
   "cell_type": "code",
   "execution_count": null,
   "id": "00ab3526",
   "metadata": {},
   "outputs": [],
   "source": [
    "import matplotlib.pyplot as plt\n",
    "import seaborn as sns\n",
    "df1=df.loc[:,:\"Attrition\"]\n",
    "plt.figure(figsize=(12, 8))  # Adjust figure size\n",
    "corr_matrix = df1.corr()  # Compute correlation matrix\n",
    "\n",
    "# Plot heatmap with improved styling\n",
    "sns.heatmap(corr_matrix, annot=True, fmt=\".2f\", cmap=\"seismic\", linewidths=0.6, annot_kws={\"size\": 8})\n",
    "\n",
    "# Rotate x-axis labels for readability\n",
    "plt.xticks(rotation=45, ha=\"right\", fontsize=10)\n",
    "plt.yticks(fontsize=10)\n",
    "plt.title(\"Feature Correlation Heatmap\", fontsize=14)\n",
    "plt.show()\n",
    "\n",
    "# 📌 Add Key Observations\n",
    "print(\"\\n🔍 Key Insights from the Correlation Matrix:\")\n",
    "print(\"- Strong positive correlation (above 0.5) between Years at Company and Job Level, indicating that employees with more years in the company tend to hold higher positions.\")\n",
    "print(\"- Monthly Income has a moderate positive correlation with Job Level, suggesting that higher-level employees earn more.\")\n",
    "print(\"- Attrition shows a weak negative correlation with Work-Life Balance (-0.31) and Job Satisfaction (-0.22), meaning that employees with lower satisfaction and poor work-life balance are more likely to leave.\")\n",
    "print(\"- Remote Work has a slight negative correlation with Attrition (-0.23), suggesting that employees who work remotely may be more likely to stay.\")\n",
    "print(\"- Distance from Home has a small but notable correlation with Attrition (0.22), meaning employees with longer commutes might be more likely to leave.\")"
   ]
  },
  {
   "cell_type": "markdown",
   "id": "9a2f1cb3",
   "metadata": {},
   "source": [
    "### **Advanced Data Analysis**"
   ]
  },
  {
   "cell_type": "code",
   "execution_count": null,
   "id": "67053eb9",
   "metadata": {},
   "outputs": [],
   "source": [
    "from scipy.stats import ttest_ind, chi2_contingency, f_oneway\n",
    "from sklearn.feature_selection import RFE, SelectKBest, f_classif\n",
    "from sklearn.ensemble import RandomForestClassifier"
   ]
  },
  {
   "cell_type": "code",
   "execution_count": null,
   "id": "42525c7e",
   "metadata": {},
   "outputs": [],
   "source": [
    "# Define target variable\n",
    "X = df.drop(columns=[\"Attrition\"])\n",
    "y = df[\"Attrition\"]\n",
    "\n",
    "# Step 1: Perform Statistical Tests\n",
    "\n",
    "# T-Test (Numerical Features)\n",
    "t_test_results = {feature: ttest_ind(df[df[\"Attrition\"] == 0][feature], \n",
    "                                     df[df[\"Attrition\"] == 1][feature], \n",
    "                                     equal_var=False)[1] \n",
    "                  for feature in categorical_cols}\n",
    "\n",
    "# ANOVA (Numerical Features)\n",
    "anova_results = {feature: f_oneway(df[df[\"Attrition\"] == 0][feature], \n",
    "                                   df[df[\"Attrition\"] == 1][feature])[1] \n",
    "                 for feature in categorical_cols}\n",
    "\n",
    "# Chi-Squared Test (Categorical Features)\n",
    "chi2_results = {}\n",
    "for feature in numerical_cols:\n",
    "    contingency_table = pd.crosstab(df[feature], df[\"Attrition\"])\n",
    "    chi2_results[feature] = chi2_contingency(contingency_table)[1]\n",
    "\n",
    "# Step 2: Feature Selection using SelectKBest\n",
    "select_kbest = SelectKBest(score_func=f_classif, k=5)  # Select top 5 features\n",
    "X_selected = select_kbest.fit_transform(X, y)\n",
    "selected_features = X.columns[select_kbest.get_support()]\n",
    "\n",
    "# Step 3: Visualize Feature Importance\n",
    "plt.figure(figsize=(8, 5))\n",
    "sns.barplot(y=selected_features, x=select_kbest.scores_[select_kbest.get_support()], palette=\"viridis\")\n",
    "plt.xlabel(\"Feature Importance Score\")\n",
    "plt.ylabel(\"Features\")\n",
    "plt.title(\"Top 5 Features Influencing Employee Attrition\")\n",
    "plt.grid(axis=\"x\", linestyle=\"--\", alpha=0.7)\n",
    "plt.show()\n",
    "\n",
    "# Display Results\n",
    "print(\"\\n🔍 **T-Test Results (P-values):**\")\n",
    "print(t_test_results)\n",
    "\n",
    "print(\"\\n📌 **ANOVA Results (P-values):**\")\n",
    "print(anova_results)\n",
    "\n",
    "print(\"\\n📊 **Chi-Squared Test Results (P-values):**\")\n",
    "print(chi2_results)\n",
    "\n",
    "print(\"\\n🚀 **Top 5 Selected Features (SelectKBest - ANOVA F-test):**\")\n",
    "print(list(selected_features))"
   ]
  },
  {
   "cell_type": "markdown",
   "id": "7c216947",
   "metadata": {},
   "source": [
    "### **The Final Correlation**"
   ]
  },
  {
   "cell_type": "code",
   "execution_count": null,
   "id": "a48d91ff",
   "metadata": {},
   "outputs": [],
   "source": [
    "# Compute the correlation matrix\n",
    "corr_matrix = df.corr()\n",
    "\n",
    "# Set up the figure size\n",
    "plt.figure(figsize=(12, 8))\n",
    "\n",
    "# Create the heatmap with better readability\n",
    "sns.heatmap(corr_matrix, annot=True, fmt=\".2f\", cmap=\"seismic\", linewidths=0.6, annot_kws={\"size\": 8})\n",
    "\n",
    "# Improve label readability\n",
    "plt.xticks(rotation=45, ha=\"right\", fontsize=10)\n",
    "plt.yticks(fontsize=10)\n",
    "plt.title(\"Feature Correlation Heatmap\", fontsize=12)\n",
    "\n",
    "# Show the heatmap\n",
    "plt.tight_layout()\n",
    "plt.show()"
   ]
  },
  {
   "cell_type": "markdown",
   "id": "d024635b",
   "metadata": {},
   "source": [
    "#### plot styles Attrition Distribution by Job Role"
   ]
  },
  {
   "cell_type": "code",
   "execution_count": null,
   "id": "a1058bfe",
   "metadata": {},
   "outputs": [],
   "source": [
    "sns.set_style(\"whitegrid\")\n",
    "plt.rcParams[\"figure.figsize\"] = (12, 6)\n",
    "\n",
    "# --- 1. Stacked Bar Chart: Attrition by Job Role ---\n",
    "plt.figure(figsize=(14, 6))\n",
    "job_role_counts = df.groupby([\"Job Role\", \"Attrition\"]).size().unstack()\n",
    "job_role_counts.plot(kind=\"bar\", stacked=True, colormap=\"coolwarm\", edgecolor=\"black\")\n",
    "\n",
    "plt.title(\"Attrition Distribution by Job Role\")\n",
    "plt.xlabel(\"Job Role\")\n",
    "plt.ylabel(\"Employee Count\")\n",
    "plt.xticks(rotation=45)\n",
    "plt.legend(title=\"Attrition (0 = Stayed, 1 = Left)\")\n",
    "plt.show()"
   ]
  },
  {
   "cell_type": "markdown",
   "id": "b112f2f2",
   "metadata": {},
   "source": [
    "#### Kernel Density Estimation (KDE): Monthly Income Distribution"
   ]
  },
  {
   "cell_type": "code",
   "execution_count": null,
   "id": "9fc12c6b",
   "metadata": {},
   "outputs": [],
   "source": [
    "plt.figure(figsize=(10, 6))\n",
    "sns.kdeplot(df[df[\"Attrition\"] == 0][\"Monthly Income\"], label=\"Stayed\", shade=True, color=\"blue\")\n",
    "sns.kdeplot(df[df[\"Attrition\"] == 1][\"Monthly Income\"], label=\"Left\", shade=True, color=\"red\")\n",
    "\n",
    "plt.title(\"KDE Plot: Monthly Income Distribution by Attrition\")\n",
    "plt.xlabel(\"Monthly Income\")\n",
    "plt.ylabel(\"Density\")\n",
    "plt.legend()\n",
    "plt.show()"
   ]
  },
  {
   "cell_type": "markdown",
   "id": "0a712684",
   "metadata": {},
   "source": [
    "#### Box Plot: Work-Life Balance vs Attrition"
   ]
  },
  {
   "cell_type": "code",
   "execution_count": null,
   "id": "b925b6e5",
   "metadata": {},
   "outputs": [],
   "source": [
    "plt.figure(figsize=(10, 6))\n",
    "sns.boxplot(x=\"Attrition\", y=\"Work-Life Balance\", data=df, palette=\"coolwarm\")\n",
    "\n",
    "plt.title(\"Box Plot: Work-Life Balance by Attrition\")\n",
    "plt.xlabel(\"Attrition (0 = Stayed, 1 = Left)\")\n",
    "plt.ylabel(\"Work-Life Balance\")\n",
    "plt.show()"
   ]
  },
  {
   "cell_type": "markdown",
   "id": "197a7966",
   "metadata": {},
   "source": [
    "#### Pair Plot: Relationships Between Key Features "
   ]
  },
  {
   "cell_type": "code",
   "execution_count": null,
   "id": "aea3a9b4",
   "metadata": {},
   "outputs": [],
   "source": [
    "key_features = [\"Monthly Income\", \"Years at Company\", \"Work-Life Balance\", \"Job Satisfaction\", \"Attrition\"]\n",
    "sns.pairplot(df[key_features], hue=\"Attrition\", palette=\"coolwarm\", diag_kind=\"kde\")\n",
    "\n",
    "plt.suptitle(\"Pair Plot of Key Features Affecting Attrition\", fontsize=16)\n",
    "plt.show()"
   ]
  },
  {
   "cell_type": "markdown",
   "id": "6f2839cb",
   "metadata": {},
   "source": [
    "#### Swarm plot Job Level vs Monthly Income (Fixed)"
   ]
  },
  {
   "cell_type": "code",
   "execution_count": null,
   "id": "f028a873",
   "metadata": {},
   "outputs": [],
   "source": [
    "# Convert Attrition to numeric (if stored as text)\n",
    "if df[\"Attrition\"].dtype == \"object\":\n",
    "    df[\"Attrition\"] = df[\"Attrition\"].map({\"Stayed\": 0, \"Left\": 1})  # Adjust based on actual values\n",
    "    df.dropna(subset=[\"Attrition\"], inplace=True)  # Remove rows where Attrition couldn't be converted\n",
    "\n",
    "# Take a valid sample ensuring we have employees who left\n",
    "df_sample = df[df[\"Attrition\"].notnull()].sample(n=1000, random_state=42) if len(df) > 1000 else df\n",
    "\n",
    "# Generate Swarm Plot\n",
    "plt.figure(figsize=(12, 6))\n",
    "sns.swarmplot(x=\"Job Level\", y=\"Monthly Income\", hue=\"Attrition\", data=df_sample, \n",
    "              palette=\"coolwarm\", alpha=0.5, size=3, dodge=True)\n",
    "\n",
    "plt.title(\"Swarm Plot: Job Level vs Monthly Income (Fixed)\")\n",
    "plt.xlabel(\"Job Level\")\n",
    "plt.ylabel(\"Monthly Income\")\n",
    "plt.legend(title=\"Attrition (0 = Stayed, 1 = Left)\")\n",
    "\n"
   ]
  },
  {
   "cell_type": "code",
   "execution_count": null,
   "id": "623be590",
   "metadata": {},
   "outputs": [],
   "source": [
    "# Define the file path for the final cleaned and edited dataset\n",
    "final_dataset_path = \"Final_Cleaned_Dataset.csv\"\n",
    "\n",
    "# Save the dataset to a new CSV file without the index column\n",
    "df.to_csv(final_dataset_path, index=False)\n",
    "\n",
    "print(f\"Dataset successfully saved as {final_dataset_path}\")"
   ]
  },
  {
   "cell_type": "code",
   "execution_count": null,
   "id": "e2881d91",
   "metadata": {},
   "outputs": [],
   "source": []
  }
 ],
 "metadata": {
  "kernelspec": {
   "display_name": "Python 3",
   "language": "python",
   "name": "python3"
  },
  "language_info": {
   "codemirror_mode": {
    "name": "ipython",
    "version": 3
   },
   "file_extension": ".py",
   "mimetype": "text/x-python",
   "name": "python",
   "nbconvert_exporter": "python",
   "pygments_lexer": "ipython3",
   "version": "3.12.9"
  }
 },
 "nbformat": 4,
 "nbformat_minor": 5
}
